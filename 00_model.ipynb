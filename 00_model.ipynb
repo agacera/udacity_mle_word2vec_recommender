{
 "cells": [
  {
   "cell_type": "code",
   "execution_count": null,
   "metadata": {},
   "outputs": [],
   "source": [
    "# default_exp model"
   ]
  },
  {
   "cell_type": "markdown",
   "metadata": {},
   "source": [
    "# Word2VeC Reommender\n",
    "\n",
    "> API details."
   ]
  },
  {
   "cell_type": "code",
   "execution_count": null,
   "metadata": {},
   "outputs": [],
   "source": [
    "#hide\n",
    "import logging\n",
    "import random\n",
    "from typing import List, NamedTuple, Tuple\n",
    "from datetime import datetime\n",
    "\n",
    "import pandas as pd\n",
    "import matplotlib.pyplot as plt\n",
    "import numpy as np\n",
    "from gensim.models import Word2Vec \n",
    "from gensim.models.callbacks import CallbackAny2Vec\n",
    "from nbdev.showdoc import *\n",
    "from tqdm import tqdm\n",
    "\n",
    "%matplotlib inline"
   ]
  },
  {
   "cell_type": "code",
   "execution_count": null,
   "metadata": {},
   "outputs": [],
   "source": [
    "#hide\n",
    "# constants\n",
    "RANDOM_SEED = 31\n",
    "\n",
    "logger = logging.getLogger(__name__)"
   ]
  },
  {
   "cell_type": "code",
   "execution_count": null,
   "metadata": {},
   "outputs": [],
   "source": [
    "#hide\n",
    "def display_all(df):\n",
    "    \"\"\"\n",
    "    Function used to display the whole content of a Pandas dataframe in a notebeook\n",
    "    \"\"\"\n",
    "    with pd.option_context('display.max_rows', df.shape[0], 'display.max_columns', df.shape[1]):\n",
    "        display(df)"
   ]
  },
  {
   "cell_type": "code",
   "execution_count": null,
   "metadata": {},
   "outputs": [],
   "source": [
    "#export\n",
    "class GensimParameters(NamedTuple):\n",
    "    window: int = 10\n",
    "    iter: int = 20\n",
    "    sg: int = 1\n",
    "    hs: int = 0\n",
    "    negative: int = 10\n",
    "    alpha: float = 0.03\n",
    "    min_alpha: float = 0.0007\n",
    "    seed: int = 14\n",
    "    compute_loss: bool = True"
   ]
  },
  {
   "cell_type": "code",
   "execution_count": null,
   "metadata": {},
   "outputs": [],
   "source": [
    "gensim_parameters = GensimParameters(window=10)"
   ]
  },
  {
   "cell_type": "code",
   "execution_count": null,
   "metadata": {},
   "outputs": [],
   "source": [
    "#export\n",
    "def generate_sentences_by_user(df: pd.DataFrame):\n",
    "    \"\"\"\n",
    "    Generate the Gensin sentences for a dataframe\n",
    "    Each sentence is created by joining all ratings from a user sorted by timestamp\n",
    "    The expectation is that by doing this, the Search2Vec model will learn similar items based on their proximity.\n",
    "    \"\"\"\n",
    "    def to_sentence(r):\n",
    "        return [str(m) for m in r]\n",
    "    return df.groupby('userId')['movieId'].apply(to_sentence).tolist()"
   ]
  },
  {
   "cell_type": "code",
   "execution_count": null,
   "metadata": {},
   "outputs": [],
   "source": [
    "#hide\n",
    "class EpochLogger(CallbackAny2Vec):\n",
    "        \"\"\"\n",
    "        Log information about training, reports time for epochs.\n",
    "        \"\"\"\n",
    "\n",
    "        def __init__(\n",
    "            self, \n",
    "            print_to_stdout: bool = False\n",
    "            ):\n",
    "            \"\"\"\n",
    "            Constructor for the class to log progress information.\n",
    "            \"\"\"\n",
    "            self._epoch = 1\n",
    "            self._start = datetime.now()\n",
    "            self._end = datetime.now()\n",
    "            self._print_to_stdout = print_to_stdout\n",
    "\n",
    "        def on_epoch_begin(self, _):\n",
    "            \"\"\"\n",
    "            Print progress information, initializes start time.\n",
    "            :param _: type gensim word2vec, signature to match the function to be used by gensim\n",
    "            \"\"\"\n",
    "            self._start = datetime.now()\n",
    "            msg = f\"Epoch #{self._epoch} start\"\n",
    "            if self._print_to_stdout:\n",
    "                print(msg)\n",
    "            logger.info(msg)\n",
    "\n",
    "        def on_epoch_end(self, model):\n",
    "            \"\"\"\n",
    "            Print time to for epoch\n",
    "            :param model: type gensim word2vec, signature to match the function to be used by gensim\n",
    "            \"\"\"\n",
    "            self._end = datetime.now()\n",
    "            elapsed = self._end - self._start\n",
    "            msg = f\"Epoch #{self._epoch} end in {elapsed} time\"\n",
    "            if self._print_to_stdout:\n",
    "                print(msg)\n",
    "            logger.info(msg)\n",
    "\n",
    "            msg = f\"Epoch #{self._epoch}, loss {model.get_latest_training_loss()}\"\n",
    "            if self._print_to_stdout:\n",
    "                print(msg)\n",
    "            logger.info(msg)\n",
    "            self._epoch += 1"
   ]
  },
  {
   "cell_type": "code",
   "execution_count": null,
   "metadata": {},
   "outputs": [],
   "source": [
    "#export\n",
    "class Word2VecMovieRecommender:\n",
    "    def __init__(\n",
    "        self: Word2VecMovieRecommender,\n",
    "        movies_df: pd.DataFrame,\n",
    "        ratings_df: pd.DataFrame,\n",
    "        gensim_parameters: GensimParameters,\n",
    "        positive_rating_threshold: float = 3.0,\n",
    "        train_validation_ratio: float = 0.9\n",
    "        ):\n",
    "\n",
    "        self.movies_df = movies_df\n",
    "        self.ratings_df = ratings_df\n",
    "        self.gensim_parameters = gensim_parameters\n",
    "        self.movie_id_dict = movies_df.set_index(\"movieId\").to_dict('index')\n",
    "        self.model: Word2Vec = None\n",
    "\n",
    "        # joins movie and ratings df\n",
    "        df_joined = ratings_df.set_index('movieId').join(movies_df.set_index('movieId'), on='movieId', rsuffix='movie_').reset_index()\n",
    "        # keep only positive ratings\n",
    "        df_joined = df_joined[df_joined['rating'] >= positive_rating_threshold]\n",
    "        # sort by user interactions\n",
    "        df_joined.sort_values(by=['userId', 'timestamp'], inplace=True)\n",
    "        # train validation split\n",
    "        user_ids = df_joined[\"userId\"].unique().tolist()\n",
    "        random.Random(RANDOM_SEED).shuffle(user_ids)\n",
    "        training_size = int(0.9 * len(user_ids))\n",
    "        training_user_ids = user_ids[:training_size]\n",
    "        validation_user_ids = user_ids[training_size:]\n",
    "        assert len(validation_user_ids) + len(training_user_ids) == len(user_ids)\n",
    "        self.train_df = df_joined[df_joined['userId'].isin(training_user_ids)]\n",
    "        self.validation_df = df_joined[df_joined['userId'].isin(validation_user_ids)]\n",
    "\n",
    "\n",
    "    def __repr__(self: Word2VecMovieRecommender):\n",
    "        return f\"movies={self.movies_df.shape}, ratings={self.ratings_df.shape}, \" +\\\n",
    "            f\"train_df={self.train_df.shape}, validation_df={self.validation_df.shape}\"\n",
    "\n",
    "\n",
    "    def train(self: Word2VecMovieRecommender, print_progress: bool = True):\n",
    "        sentences_train =generate_sentences_by_user(self.train_df)\n",
    "        self.model = Word2Vec(sentences_train, callbacks=[EpochLogger(print_to_stdout=print_progress)],  **self.gensim_parameters._asdict())\n",
    "\n",
    "    def similar_by_movie_id(self: Word2VecMovieRecommender, seed_movie_id: int, n: int = 5) -> Tuple[str, List[str]]:\n",
    "        def movie_to_str(mv, distance=None):\n",
    "            return f\"{mv['title']} - {mv['genres']} {distance}\"\n",
    "        movie = self.movie_id_dict[seed_movie_id]\n",
    "        seed_movie = movie_to_str(movie)\n",
    "        movie_embedding = self.model.wv[str(seed_movie_id)]\n",
    "        movies = self.model.wv.similar_by_vector(movie_embedding, topn= n+1)[1:]\n",
    "    \n",
    "        similars = []\n",
    "        for m in movies:\n",
    "            movie_id = m[0]\n",
    "            distance = m[1]\n",
    "            movie = self.movie_id_dict.get(int(movie_id))\n",
    "            if movie:\n",
    "                similars.append(movie_to_str(movie, distance))\n",
    "            else:\n",
    "                similars.append(f\"movie={movie_id} not found!\")\n",
    "            \n",
    "        return (seed_movie, similars)\n",
    "\n",
    "\n",
    "\n"
   ]
  },
  {
   "cell_type": "code",
   "execution_count": null,
   "metadata": {},
   "outputs": [
    {
     "data": {
      "text/html": "<div>\n<style scoped>\n    .dataframe tbody tr th:only-of-type {\n        vertical-align: middle;\n    }\n\n    .dataframe tbody tr th {\n        vertical-align: top;\n    }\n\n    .dataframe thead th {\n        text-align: right;\n    }\n</style>\n<table border=\"1\" class=\"dataframe\">\n  <thead>\n    <tr style=\"text-align: right;\">\n      <th></th>\n      <th>movieId</th>\n      <th>title</th>\n      <th>genres</th>\n    </tr>\n  </thead>\n  <tbody>\n    <tr>\n      <th>0</th>\n      <td>1</td>\n      <td>Toy Story (1995)</td>\n      <td>Adventure|Animation|Children|Comedy|Fantasy</td>\n    </tr>\n    <tr>\n      <th>1</th>\n      <td>2</td>\n      <td>Jumanji (1995)</td>\n      <td>Adventure|Children|Fantasy</td>\n    </tr>\n    <tr>\n      <th>2</th>\n      <td>3</td>\n      <td>Grumpier Old Men (1995)</td>\n      <td>Comedy|Romance</td>\n    </tr>\n    <tr>\n      <th>3</th>\n      <td>4</td>\n      <td>Waiting to Exhale (1995)</td>\n      <td>Comedy|Drama|Romance</td>\n    </tr>\n    <tr>\n      <th>4</th>\n      <td>5</td>\n      <td>Father of the Bride Part II (1995)</td>\n      <td>Comedy</td>\n    </tr>\n  </tbody>\n</table>\n</div>",
      "text/plain": "   movieId                               title  \\\n0        1                    Toy Story (1995)   \n1        2                      Jumanji (1995)   \n2        3             Grumpier Old Men (1995)   \n3        4            Waiting to Exhale (1995)   \n4        5  Father of the Bride Part II (1995)   \n\n                                        genres  \n0  Adventure|Animation|Children|Comedy|Fantasy  \n1                   Adventure|Children|Fantasy  \n2                               Comedy|Romance  \n3                         Comedy|Drama|Romance  \n4                                       Comedy  "
     },
     "execution_count": null,
     "metadata": {},
     "output_type": "execute_result"
    }
   ],
   "source": [
    "movies_df = pd.read_csv('data/ml-latest-small/movies.csv')\n",
    "movies_df.head()"
   ]
  },
  {
   "cell_type": "code",
   "execution_count": null,
   "metadata": {},
   "outputs": [
    {
     "data": {
      "text/plain": "movies=(9742, 3), ratings=(100836, 4), train_df=(74918, 6), validation_df=(6845, 6)"
     },
     "execution_count": null,
     "metadata": {},
     "output_type": "execute_result"
    }
   ],
   "source": [
    "word2vec_recommender = Word2VecMovieRecommender(\n",
    "    movies_df=movies_df,\n",
    "    ratings_df=ratings_df,\n",
    "    gensim_parameters=gensim_parameters\n",
    ")\n",
    "\n",
    "word2vec_recommender"
   ]
  },
  {
   "cell_type": "code",
   "execution_count": null,
   "metadata": {},
   "outputs": [
    {
     "data": {
      "text/html": "<div>\n<style scoped>\n    .dataframe tbody tr th:only-of-type {\n        vertical-align: middle;\n    }\n\n    .dataframe tbody tr th {\n        vertical-align: top;\n    }\n\n    .dataframe thead th {\n        text-align: right;\n    }\n</style>\n<table border=\"1\" class=\"dataframe\">\n  <thead>\n    <tr style=\"text-align: right;\">\n      <th></th>\n      <th>movieId</th>\n      <th>userId</th>\n      <th>rating</th>\n      <th>timestamp</th>\n      <th>title</th>\n      <th>genres</th>\n    </tr>\n  </thead>\n  <tbody>\n    <tr>\n      <th>43</th>\n      <td>804</td>\n      <td>1</td>\n      <td>4.0</td>\n      <td>964980499</td>\n      <td>She's the One (1996)</td>\n      <td>Comedy|Romance</td>\n    </tr>\n    <tr>\n      <th>73</th>\n      <td>1210</td>\n      <td>1</td>\n      <td>5.0</td>\n      <td>964980499</td>\n      <td>Star Wars: Episode VI - Return of the Jedi (1983)</td>\n      <td>Action|Adventure|Sci-Fi</td>\n    </tr>\n    <tr>\n      <th>120</th>\n      <td>2018</td>\n      <td>1</td>\n      <td>5.0</td>\n      <td>964980523</td>\n      <td>Bambi (1942)</td>\n      <td>Animation|Children|Drama</td>\n    </tr>\n    <tr>\n      <th>171</th>\n      <td>2628</td>\n      <td>1</td>\n      <td>4.0</td>\n      <td>964980523</td>\n      <td>Star Wars: Episode I - The Phantom Menace (1999)</td>\n      <td>Action|Adventure|Sci-Fi</td>\n    </tr>\n    <tr>\n      <th>183</th>\n      <td>2826</td>\n      <td>1</td>\n      <td>4.0</td>\n      <td>964980523</td>\n      <td>13th Warrior, The (1999)</td>\n      <td>Action|Adventure|Fantasy</td>\n    </tr>\n  </tbody>\n</table>\n</div>",
      "text/plain": "     movieId  userId  rating  timestamp  \\\n43       804       1     4.0  964980499   \n73      1210       1     5.0  964980499   \n120     2018       1     5.0  964980523   \n171     2628       1     4.0  964980523   \n183     2826       1     4.0  964980523   \n\n                                                 title  \\\n43                                She's the One (1996)   \n73   Star Wars: Episode VI - Return of the Jedi (1983)   \n120                                       Bambi (1942)   \n171   Star Wars: Episode I - The Phantom Menace (1999)   \n183                           13th Warrior, The (1999)   \n\n                       genres  \n43             Comedy|Romance  \n73    Action|Adventure|Sci-Fi  \n120  Animation|Children|Drama  \n171   Action|Adventure|Sci-Fi  \n183  Action|Adventure|Fantasy  "
     },
     "execution_count": null,
     "metadata": {},
     "output_type": "execute_result"
    }
   ],
   "source": [
    "word2vec_recommender.train_df.head()"
   ]
  },
  {
   "cell_type": "code",
   "execution_count": null,
   "metadata": {},
   "outputs": [
    {
     "data": {
      "text/plain": "[['804', '1210', '2018', '2628', '2826', '3578', '3617', '3744', '101', '441']]"
     },
     "execution_count": null,
     "metadata": {},
     "output_type": "execute_result"
    }
   ],
   "source": [
    "# sampling of interactions\n",
    "generate_sentences_by_user(word2vec_recommender.train_df.head(10))"
   ]
  },
  {
   "cell_type": "code",
   "execution_count": null,
   "metadata": {},
   "outputs": [
    {
     "name": "stdout",
     "output_type": "stream",
     "text": "Epoch #1 start\nEpoch #1 end in 0:00:00.387951 time\nEpoch #1, loss 987355.4375\nEpoch #2 start\nEpoch #2 end in 0:00:00.427160 time\nEpoch #2, loss 1779913.0\nEpoch #3 start\nEpoch #3 end in 0:00:00.407804 time\nEpoch #3, loss 2502114.75\nEpoch #4 start\nEpoch #4 end in 0:00:00.389416 time\nEpoch #4, loss 3195653.0\nEpoch #5 start\nEpoch #5 end in 0:00:00.392278 time\nEpoch #5, loss 3882199.0\nEpoch #6 start\nEpoch #6 end in 0:00:00.388129 time\nEpoch #6, loss 4530850.5\nEpoch #7 start\nEpoch #7 end in 0:00:00.389183 time\nEpoch #7, loss 5143151.0\nEpoch #8 start\nEpoch #8 end in 0:00:00.390820 time\nEpoch #8, loss 5748671.5\nEpoch #9 start\nEpoch #9 end in 0:00:00.386617 time\nEpoch #9, loss 6350001.0\nEpoch #10 start\nEpoch #10 end in 0:00:00.384636 time\nEpoch #10, loss 6951736.0\nEpoch #11 start\nEpoch #11 end in 0:00:00.383282 time\nEpoch #11, loss 7553874.0\nEpoch #12 start\nEpoch #12 end in 0:00:00.386084 time\nEpoch #12, loss 8149442.0\nEpoch #13 start\nEpoch #13 end in 0:00:00.391378 time\nEpoch #13, loss 8708462.0\nEpoch #14 start\nEpoch #14 end in 0:00:00.385532 time\nEpoch #14, loss 9243414.0\nEpoch #15 start\nEpoch #15 end in 0:00:00.386330 time\nEpoch #15, loss 9774583.0\nEpoch #16 start\nEpoch #16 end in 0:00:00.384083 time\nEpoch #16, loss 10305132.0\nEpoch #17 start\nEpoch #17 end in 0:00:00.385885 time\nEpoch #17, loss 10835999.0\nEpoch #18 start\nEpoch #18 end in 0:00:00.384317 time\nEpoch #18, loss 11361706.0\nEpoch #19 start\nEpoch #19 end in 0:00:00.412700 time\nEpoch #19, loss 11883544.0\nEpoch #20 start\nEpoch #20 end in 0:00:00.403494 time\nEpoch #20, loss 12403639.0\n"
    }
   ],
   "source": [
    "word2vec_recommender.train()"
   ]
  },
  {
   "cell_type": "code",
   "execution_count": null,
   "metadata": {},
   "outputs": [
    {
     "data": {
      "text/plain": "('Star Wars: Episode VI - Return of the Jedi (1983) - Action|Adventure|Sci-Fi None',\n ['Star Wars: Episode V - The Empire Strikes Back (1980) - Action|Adventure|Sci-Fi 0.5344268083572388',\n  'Star Wars: Episode IV - A New Hope (1977) - Action|Adventure|Sci-Fi 0.5091259479522705',\n  'Willy Wonka & the Chocolate Factory (1971) - Children|Comedy|Fantasy|Musical 0.44425877928733826',\n  'Lawnmower Man 2: Beyond Cyberspace (1996) - Action|Sci-Fi|Thriller 0.44226330518722534',\n  'Fly Away Home (1996) - Adventure|Children 0.441374272108078'])"
     },
     "execution_count": null,
     "metadata": {},
     "output_type": "execute_result"
    }
   ],
   "source": [
    "word2vec_recommender.similar_by_movie_id(1210)"
   ]
  },
  {
   "cell_type": "code",
   "execution_count": null,
   "metadata": {},
   "outputs": [
    {
     "data": {
      "text/plain": "('Bottle Rocket (1996) - Adventure|Comedy|Crime|Romance None',\n ['Bulworth (1998) - Comedy|Drama|Romance 0.5755783319473267',\n  'Hedwig and the Angry Inch (2000) - Comedy|Drama|Musical 0.5517692565917969',\n  'Living in Oblivion (1995) - Comedy 0.5474206209182739',\n  'Flirting With Disaster (1996) - Comedy 0.5354970097541809',\n  'Cemetery Man (Dellamorte Dellamore) (1994) - Horror 0.5264051556587219'])"
     },
     "execution_count": null,
     "metadata": {},
     "output_type": "execute_result"
    }
   ],
   "source": [
    "word2vec_recommender.similar_by_movie_id(101)"
   ]
  },
  {
   "cell_type": "code",
   "execution_count": null,
   "metadata": {},
   "outputs": [],
   "source": []
  }
 ],
 "metadata": {
  "kernelspec": {
   "display_name": "Python 3",
   "language": "python",
   "name": "python3"
  }
 },
 "nbformat": 4,
 "nbformat_minor": 2
}
