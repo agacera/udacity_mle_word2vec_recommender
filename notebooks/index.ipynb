{
 "cells": [
  {
   "cell_type": "markdown",
   "metadata": {},
   "source": [
    "# Capstone Project: Word2Vec for Recommendation Systems\n",
    "\n",
    "> Generating movie recommendations using word2vec"
   ]
  },
  {
   "cell_type": "markdown",
   "metadata": {},
   "source": [
    "The project documentation is deployed on: https://agacera.github.io/udacity_mle_word2vec_recommender/\n",
    "\n",
    "# Running locally\n",
    "\n",
    "This project uses conda to manage its dependencies, so make sure you have it installed.\n",
    "\n",
    "To create an environment, run: `make conda-env`.\n",
    "You can them activate this environment by running `conda activate word2vec_recommender`\n",
    "\n",
    "# Development\n",
    "\n",
    "To develop this project I used the library nbdev from Fast.ai, this library allows all the development to be taken inside Jupyter Notebooks, and in return it generates a beautiful documentation and exports the code from your notebook to Python modules. \n",
    "\n",
    "The main advantage of using it is that it allows a full exploratory development. So please, refer to the notebooks directly for code example and exploratory analysis.\n",
    "\n",
    "# Dataset\n",
    "\n",
    "This project uses the Movielens dataset. The data needed is already included in this repository using under `./data/`\n"
   ]
  },
  {
   "cell_type": "code",
   "execution_count": null,
   "metadata": {},
   "outputs": [],
   "source": []
  }
 ],
 "metadata": {
  "kernelspec": {
   "display_name": "Python 3",
   "language": "python",
   "name": "python3"
  }
 },
 "nbformat": 4,
 "nbformat_minor": 2
}
