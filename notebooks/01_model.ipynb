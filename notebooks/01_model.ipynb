{
 "cells": [
  {
   "cell_type": "code",
   "execution_count": null,
   "metadata": {},
   "outputs": [],
   "source": [
    "# default_exp model"
   ]
  },
  {
   "cell_type": "markdown",
   "metadata": {},
   "source": [
    "# Word2Vec Model\n",
    "\n",
    "> This module exposes classes and functions related to training of the Word2Vec recommender using the Gensim library.\n",
    "\n",
    "https://radimrehurek.com/gensim/"
   ]
  },
  {
   "cell_type": "code",
   "execution_count": null,
   "metadata": {},
   "outputs": [],
   "source": [
    "#hide\n",
    "from nbdev.export import *\n",
    "from nbdev.showdoc import *\n",
    "\n",
    "# adds library to context\n",
    "import sys\n",
    "sys.path.append('../')"
   ]
  },
  {
   "cell_type": "code",
   "execution_count": null,
   "metadata": {},
   "outputs": [],
   "source": [
    "#export\n",
    "import logging\n",
    "import random\n",
    "from typing import List, NamedTuple, Tuple\n",
    "from datetime import datetime\n",
    "from itertools import product\n",
    "from pathlib import Path\n",
    "\n",
    "import pandas as pd\n",
    "import matplotlib.pyplot as plt\n",
    "import numpy as np\n",
    "from gensim.models import Word2Vec \n",
    "from gensim.models.callbacks import CallbackAny2Vec\n",
    "\n",
    "from word2vec_recommender.core import *"
   ]
  },
  {
   "cell_type": "code",
   "execution_count": null,
   "metadata": {},
   "outputs": [],
   "source": [
    "#export\n",
    "logger = logging.getLogger(__name__)"
   ]
  },
  {
   "cell_type": "code",
   "execution_count": null,
   "metadata": {},
   "outputs": [],
   "source": [
    "#export\n",
    "class GensimParameters(NamedTuple):\n",
    "    window: int = 10\n",
    "    iter: int = 20\n",
    "    sg: int = 1\n",
    "    hs: int = 0\n",
    "    negative: int = 10\n",
    "    alpha: float = 0.03\n",
    "    min_alpha: float = 0.0007\n",
    "    seed: int = 14\n",
    "    compute_loss: bool = True"
   ]
  },
  {
   "cell_type": "code",
   "execution_count": null,
   "metadata": {},
   "outputs": [],
   "source": [
    "gensim_parameters = GensimParameters(window=10)"
   ]
  },
  {
   "cell_type": "code",
   "execution_count": null,
   "metadata": {},
   "outputs": [],
   "source": [
    "#export\n",
    "def generate_sentences_by_user(df: pd.DataFrame):\n",
    "    \"\"\"\n",
    "    Generate the Gensin sentences for a dataframe.\n",
    "    Each sentence is created by joining all ratings from a user sorted by timestamp.\n",
    "    \"\"\"\n",
    "    def to_sentence(r):\n",
    "        return [str(m) for m in r]\n",
    "    return df.groupby('userId')['movieId'].apply(to_sentence).tolist()"
   ]
  },
  {
   "cell_type": "code",
   "execution_count": null,
   "metadata": {},
   "outputs": [],
   "source": [
    "#export\n",
    "class _EpochLogger(CallbackAny2Vec):\n",
    "    \"\"\"\n",
    "    Log information about training, reports time for epochs.\n",
    "    \"\"\"\n",
    "    def __init__(self, print_to_stdout: bool = False):\n",
    "        \"\"\"\n",
    "        Constructor for the class to log progress information.\n",
    "        \"\"\"\n",
    "        self._epoch = 1\n",
    "        self._start = datetime.now()\n",
    "        self._end = datetime.now()\n",
    "        self._print_to_stdout = print_to_stdout\n",
    "\n",
    "    def on_epoch_begin(self, _):\n",
    "        \"\"\"\n",
    "        Print progress information, initializes start time.\n",
    "        :param _: type gensim word2vec, signature to match the function to be used by gensim\n",
    "        \"\"\"\n",
    "        self._start = datetime.now()\n",
    "        msg = f\"Epoch #{self._epoch} start\"\n",
    "        if self._print_to_stdout:\n",
    "            print(msg)\n",
    "        logger.info(msg)\n",
    "\n",
    "    def on_epoch_end(self, model):\n",
    "        \"\"\"\n",
    "        Print time to for epoch\n",
    "        :param model: type gensim word2vec, signature to match the function to be used by gensim\n",
    "        \"\"\"\n",
    "        self._end = datetime.now()\n",
    "        elapsed = self._end - self._start\n",
    "        msg = f\"Epoch #{self._epoch} end in {elapsed} time\"\n",
    "        if self._print_to_stdout:\n",
    "            print(msg)\n",
    "        logger.info(msg)\n",
    "        msg = f\"Epoch #{self._epoch}, loss {model.get_latest_training_loss()}\"\n",
    "        if self._print_to_stdout:\n",
    "            print(msg)\n",
    "        logger.info(msg)\n",
    "        self._epoch += 1\n"
   ]
  },
  {
   "cell_type": "code",
   "execution_count": null,
   "metadata": {},
   "outputs": [],
   "source": [
    "#export\n",
    "class Word2VecMovieModel:\n",
    "    \"\"\"\n",
    "    This class encapsulates the training of recommendations plus utilities for persistance and predictions\n",
    "    \"\"\"\n",
    "    def __init__(\n",
    "        self,\n",
    "        movies_df: pd.DataFrame,\n",
    "        ratings_df: pd.DataFrame,\n",
    "        gensim_parameters: GensimParameters,\n",
    "        positive_rating_threshold: float = 3.0,\n",
    "        train_validation_ratio: float = 0.9\n",
    "        ):\n",
    "\n",
    "        self.movies_df = movies_df\n",
    "        self.ratings_df = ratings_df\n",
    "        self.gensim_parameters = gensim_parameters\n",
    "        self.model: Word2Vec = None\n",
    "\n",
    "        # joins movie and ratings df\n",
    "        df_joined = ratings_df.set_index('movieId').join(movies_df.set_index('movieId'), on='movieId', rsuffix='movie_').reset_index()\n",
    "        # keep only positive ratings\n",
    "        df_joined = df_joined[df_joined['rating'] >= positive_rating_threshold]\n",
    "        # sort by user interactions\n",
    "        df_joined.sort_values(by=['userId', 'timestamp'], inplace=True)\n",
    "        # train validation split\n",
    "        user_ids = df_joined[\"userId\"].unique().tolist()\n",
    "        random.Random(RANDOM_SEED).shuffle(user_ids)\n",
    "        training_size = int(0.9 * len(user_ids))\n",
    "        training_user_ids = user_ids[:training_size]\n",
    "        validation_user_ids = user_ids[training_size:]\n",
    "        assert len(validation_user_ids) + len(training_user_ids) == len(user_ids)\n",
    "        self.train_df = df_joined[df_joined['userId'].isin(training_user_ids)]\n",
    "        self.validation_df = df_joined[df_joined['userId'].isin(validation_user_ids)]\n",
    "\n",
    "\n",
    "    def __repr__(self):\n",
    "        return f\"movies={self.movies_df.shape}, ratings={self.ratings_df.shape}, \" +\\\n",
    "            f\"train_df={self.train_df.shape}, validation_df={self.validation_df.shape}\"\n",
    "\n",
    "    def train(self, print_progress: bool = False):\n",
    "        sentences_train = generate_sentences_by_user(self.train_df)\n",
    "        self.model = Word2Vec(sentences_train, callbacks=[_EpochLogger(print_to_stdout=print_progress)],  **self.gensim_parameters._asdict())\n",
    "\n",
    "    def similar_by_movie_id(self, seed_movie_id: int, n: int = 5) -> List[Recommendation]:\n",
    "        if str(seed_movie_id) not in self.model.wv:\n",
    "            return []\n",
    "        movie_embedding = self.model.wv[str(seed_movie_id)]\n",
    "        movies = self.model.wv.similar_by_vector(movie_embedding, topn= n+1)[1:]\n",
    "        return [ Recommendation(movie_id=int(m[0]), score=m[1]) for m in movies ]\n",
    "    \n",
    "    def save_all(self, output_path: Path):\n",
    "        if not output_path.exists():\n",
    "            output_path.mkdir()\n",
    "        if not output_path.is_dir():\n",
    "            raise ValueError(f\"{output_path} should be a directory\")\n",
    "        word_indexes = self.model.wv.index2word\n",
    "        embeddings = self.model.wv.vectors\n",
    "        with open(output_path / 'words_index.pkl', 'wb') as f:\n",
    "            np.save(f, word_indexes)\n",
    "        with open(output_path / 'embeddings.pkl', 'wb') as f:\n",
    "            np.save(f, embeddings)\n",
    "        with open(output_path / 'model.gensim', 'wb') as f:\n",
    "            self.model.save(f)\n",
    "        \n",
    "    \n",
    "    def calculate_precision_at_k(self, k=10, debug=False) -> float:\n",
    "        validation_sentences = generate_sentences_by_user(self.validation_df)\n",
    "        validation_sentences = [ set(sentence) for  sentence in validation_sentences ]\n",
    "        total_precision_at_k = 0.0\n",
    "        for sentence in validation_sentences:\n",
    "            n_sentences = len(sentence)\n",
    "            n_matches = 0.0\n",
    "            for movie_id in sentence:\n",
    "                recs = {str(rec.movie_id) for rec in self.similar_by_movie_id(int(movie_id), n=k)}\n",
    "                n_matches += len(sentence.intersection(recs)) / k\n",
    "            precision_at_k = n_matches / n_sentences\n",
    "            if debug:\n",
    "                print(n_matches, n_sentences, precision_at_k)\n",
    "            total_precision_at_k += precision_at_k\n",
    "        return total_precision_at_k / len(validation_sentences)\n",
    "    \n",
    "    \n"
   ]
  },
  {
   "cell_type": "code",
   "execution_count": null,
   "metadata": {},
   "outputs": [
    {
     "data": {
      "text/html": [
       "<div>\n",
       "<style scoped>\n",
       "    .dataframe tbody tr th:only-of-type {\n",
       "        vertical-align: middle;\n",
       "    }\n",
       "\n",
       "    .dataframe tbody tr th {\n",
       "        vertical-align: top;\n",
       "    }\n",
       "\n",
       "    .dataframe thead th {\n",
       "        text-align: right;\n",
       "    }\n",
       "</style>\n",
       "<table border=\"1\" class=\"dataframe\">\n",
       "  <thead>\n",
       "    <tr style=\"text-align: right;\">\n",
       "      <th></th>\n",
       "      <th>movieId</th>\n",
       "      <th>title</th>\n",
       "      <th>genres</th>\n",
       "    </tr>\n",
       "  </thead>\n",
       "  <tbody>\n",
       "    <tr>\n",
       "      <th>0</th>\n",
       "      <td>1</td>\n",
       "      <td>Toy Story (1995)</td>\n",
       "      <td>Adventure|Animation|Children|Comedy|Fantasy</td>\n",
       "    </tr>\n",
       "    <tr>\n",
       "      <th>1</th>\n",
       "      <td>2</td>\n",
       "      <td>Jumanji (1995)</td>\n",
       "      <td>Adventure|Children|Fantasy</td>\n",
       "    </tr>\n",
       "    <tr>\n",
       "      <th>2</th>\n",
       "      <td>3</td>\n",
       "      <td>Grumpier Old Men (1995)</td>\n",
       "      <td>Comedy|Romance</td>\n",
       "    </tr>\n",
       "    <tr>\n",
       "      <th>3</th>\n",
       "      <td>4</td>\n",
       "      <td>Waiting to Exhale (1995)</td>\n",
       "      <td>Comedy|Drama|Romance</td>\n",
       "    </tr>\n",
       "    <tr>\n",
       "      <th>4</th>\n",
       "      <td>5</td>\n",
       "      <td>Father of the Bride Part II (1995)</td>\n",
       "      <td>Comedy</td>\n",
       "    </tr>\n",
       "  </tbody>\n",
       "</table>\n",
       "</div>"
      ],
      "text/plain": [
       "   movieId                               title  \\\n",
       "0        1                    Toy Story (1995)   \n",
       "1        2                      Jumanji (1995)   \n",
       "2        3             Grumpier Old Men (1995)   \n",
       "3        4            Waiting to Exhale (1995)   \n",
       "4        5  Father of the Bride Part II (1995)   \n",
       "\n",
       "                                        genres  \n",
       "0  Adventure|Animation|Children|Comedy|Fantasy  \n",
       "1                   Adventure|Children|Fantasy  \n",
       "2                               Comedy|Romance  \n",
       "3                         Comedy|Drama|Romance  \n",
       "4                                       Comedy  "
      ]
     },
     "execution_count": null,
     "metadata": {},
     "output_type": "execute_result"
    }
   ],
   "source": [
    "movies_df = pd.read_csv('../data/ml-latest-small/movies.csv')\n",
    "movies_df.head()"
   ]
  },
  {
   "cell_type": "code",
   "execution_count": null,
   "metadata": {},
   "outputs": [
    {
     "data": {
      "text/html": [
       "<div>\n",
       "<style scoped>\n",
       "    .dataframe tbody tr th:only-of-type {\n",
       "        vertical-align: middle;\n",
       "    }\n",
       "\n",
       "    .dataframe tbody tr th {\n",
       "        vertical-align: top;\n",
       "    }\n",
       "\n",
       "    .dataframe thead th {\n",
       "        text-align: right;\n",
       "    }\n",
       "</style>\n",
       "<table border=\"1\" class=\"dataframe\">\n",
       "  <thead>\n",
       "    <tr style=\"text-align: right;\">\n",
       "      <th></th>\n",
       "      <th>userId</th>\n",
       "      <th>movieId</th>\n",
       "      <th>rating</th>\n",
       "      <th>timestamp</th>\n",
       "    </tr>\n",
       "  </thead>\n",
       "  <tbody>\n",
       "    <tr>\n",
       "      <th>0</th>\n",
       "      <td>1</td>\n",
       "      <td>1</td>\n",
       "      <td>4.0</td>\n",
       "      <td>964982703</td>\n",
       "    </tr>\n",
       "    <tr>\n",
       "      <th>1</th>\n",
       "      <td>1</td>\n",
       "      <td>3</td>\n",
       "      <td>4.0</td>\n",
       "      <td>964981247</td>\n",
       "    </tr>\n",
       "    <tr>\n",
       "      <th>2</th>\n",
       "      <td>1</td>\n",
       "      <td>6</td>\n",
       "      <td>4.0</td>\n",
       "      <td>964982224</td>\n",
       "    </tr>\n",
       "    <tr>\n",
       "      <th>3</th>\n",
       "      <td>1</td>\n",
       "      <td>47</td>\n",
       "      <td>5.0</td>\n",
       "      <td>964983815</td>\n",
       "    </tr>\n",
       "    <tr>\n",
       "      <th>4</th>\n",
       "      <td>1</td>\n",
       "      <td>50</td>\n",
       "      <td>5.0</td>\n",
       "      <td>964982931</td>\n",
       "    </tr>\n",
       "  </tbody>\n",
       "</table>\n",
       "</div>"
      ],
      "text/plain": [
       "   userId  movieId  rating  timestamp\n",
       "0       1        1     4.0  964982703\n",
       "1       1        3     4.0  964981247\n",
       "2       1        6     4.0  964982224\n",
       "3       1       47     5.0  964983815\n",
       "4       1       50     5.0  964982931"
      ]
     },
     "execution_count": null,
     "metadata": {},
     "output_type": "execute_result"
    }
   ],
   "source": [
    "ratings_df = pd.read_csv('../data/ml-latest-small/ratings.csv')\n",
    "ratings_df.head()"
   ]
  },
  {
   "cell_type": "code",
   "execution_count": null,
   "metadata": {},
   "outputs": [
    {
     "data": {
      "text/plain": [
       "Movie(movie_id=1, title='Toy Story (1995)', genres='Adventure|Animation|Children|Comedy|Fantasy')"
      ]
     },
     "execution_count": null,
     "metadata": {},
     "output_type": "execute_result"
    }
   ],
   "source": [
    "movie_repository = MovieRepository(\n",
    "    movies_df=movies_df\n",
    ")\n",
    "\n",
    "movie_repository.find_by_movie_id(1)"
   ]
  },
  {
   "cell_type": "code",
   "execution_count": null,
   "metadata": {},
   "outputs": [
    {
     "data": {
      "text/plain": [
       "movies=(9742, 3), ratings=(100836, 4), train_df=(74918, 6), validation_df=(6845, 6)"
      ]
     },
     "execution_count": null,
     "metadata": {},
     "output_type": "execute_result"
    }
   ],
   "source": [
    "model = Word2VecMovieModel(\n",
    "    movies_df=movies_df,\n",
    "    ratings_df=ratings_df,\n",
    "    gensim_parameters=gensim_parameters\n",
    ")\n",
    "\n",
    "model"
   ]
  },
  {
   "cell_type": "code",
   "execution_count": null,
   "metadata": {},
   "outputs": [
    {
     "data": {
      "text/html": [
       "<div>\n",
       "<style scoped>\n",
       "    .dataframe tbody tr th:only-of-type {\n",
       "        vertical-align: middle;\n",
       "    }\n",
       "\n",
       "    .dataframe tbody tr th {\n",
       "        vertical-align: top;\n",
       "    }\n",
       "\n",
       "    .dataframe thead th {\n",
       "        text-align: right;\n",
       "    }\n",
       "</style>\n",
       "<table border=\"1\" class=\"dataframe\">\n",
       "  <thead>\n",
       "    <tr style=\"text-align: right;\">\n",
       "      <th></th>\n",
       "      <th>movieId</th>\n",
       "      <th>userId</th>\n",
       "      <th>rating</th>\n",
       "      <th>timestamp</th>\n",
       "      <th>title</th>\n",
       "      <th>genres</th>\n",
       "    </tr>\n",
       "  </thead>\n",
       "  <tbody>\n",
       "    <tr>\n",
       "      <th>43</th>\n",
       "      <td>804</td>\n",
       "      <td>1</td>\n",
       "      <td>4.0</td>\n",
       "      <td>964980499</td>\n",
       "      <td>She's the One (1996)</td>\n",
       "      <td>Comedy|Romance</td>\n",
       "    </tr>\n",
       "    <tr>\n",
       "      <th>73</th>\n",
       "      <td>1210</td>\n",
       "      <td>1</td>\n",
       "      <td>5.0</td>\n",
       "      <td>964980499</td>\n",
       "      <td>Star Wars: Episode VI - Return of the Jedi (1983)</td>\n",
       "      <td>Action|Adventure|Sci-Fi</td>\n",
       "    </tr>\n",
       "    <tr>\n",
       "      <th>120</th>\n",
       "      <td>2018</td>\n",
       "      <td>1</td>\n",
       "      <td>5.0</td>\n",
       "      <td>964980523</td>\n",
       "      <td>Bambi (1942)</td>\n",
       "      <td>Animation|Children|Drama</td>\n",
       "    </tr>\n",
       "    <tr>\n",
       "      <th>171</th>\n",
       "      <td>2628</td>\n",
       "      <td>1</td>\n",
       "      <td>4.0</td>\n",
       "      <td>964980523</td>\n",
       "      <td>Star Wars: Episode I - The Phantom Menace (1999)</td>\n",
       "      <td>Action|Adventure|Sci-Fi</td>\n",
       "    </tr>\n",
       "    <tr>\n",
       "      <th>183</th>\n",
       "      <td>2826</td>\n",
       "      <td>1</td>\n",
       "      <td>4.0</td>\n",
       "      <td>964980523</td>\n",
       "      <td>13th Warrior, The (1999)</td>\n",
       "      <td>Action|Adventure|Fantasy</td>\n",
       "    </tr>\n",
       "  </tbody>\n",
       "</table>\n",
       "</div>"
      ],
      "text/plain": [
       "     movieId  userId  rating  timestamp  \\\n",
       "43       804       1     4.0  964980499   \n",
       "73      1210       1     5.0  964980499   \n",
       "120     2018       1     5.0  964980523   \n",
       "171     2628       1     4.0  964980523   \n",
       "183     2826       1     4.0  964980523   \n",
       "\n",
       "                                                 title  \\\n",
       "43                                She's the One (1996)   \n",
       "73   Star Wars: Episode VI - Return of the Jedi (1983)   \n",
       "120                                       Bambi (1942)   \n",
       "171   Star Wars: Episode I - The Phantom Menace (1999)   \n",
       "183                           13th Warrior, The (1999)   \n",
       "\n",
       "                       genres  \n",
       "43             Comedy|Romance  \n",
       "73    Action|Adventure|Sci-Fi  \n",
       "120  Animation|Children|Drama  \n",
       "171   Action|Adventure|Sci-Fi  \n",
       "183  Action|Adventure|Fantasy  "
      ]
     },
     "execution_count": null,
     "metadata": {},
     "output_type": "execute_result"
    }
   ],
   "source": [
    "model.train_df.head()"
   ]
  },
  {
   "cell_type": "code",
   "execution_count": null,
   "metadata": {},
   "outputs": [
    {
     "data": {
      "text/plain": [
       "[['804', '1210', '2018', '2628', '2826', '3578', '3617', '3744', '101', '441']]"
      ]
     },
     "execution_count": null,
     "metadata": {},
     "output_type": "execute_result"
    }
   ],
   "source": [
    "# sampling of interactions\n",
    "generate_sentences_by_user(model.train_df.head(10))"
   ]
  },
  {
   "cell_type": "code",
   "execution_count": null,
   "metadata": {},
   "outputs": [
    {
     "name": "stdout",
     "output_type": "stream",
     "text": [
      "Epoch #1 start\n",
      "Epoch #1 end in 0:00:00.387962 time\n",
      "Epoch #1, loss 1003355.875\n",
      "Epoch #2 start\n",
      "Epoch #2 end in 0:00:00.392620 time\n",
      "Epoch #2, loss 1816586.125\n",
      "Epoch #3 start\n",
      "Epoch #3 end in 0:00:00.386222 time\n",
      "Epoch #3, loss 2539278.0\n",
      "Epoch #4 start\n",
      "Epoch #4 end in 0:00:00.383365 time\n",
      "Epoch #4, loss 3237975.75\n",
      "Epoch #5 start\n",
      "Epoch #5 end in 0:00:00.385538 time\n",
      "Epoch #5, loss 3934422.5\n",
      "Epoch #6 start\n",
      "Epoch #6 end in 0:00:00.384331 time\n",
      "Epoch #6, loss 4575919.5\n",
      "Epoch #7 start\n",
      "Epoch #7 end in 0:00:00.383664 time\n",
      "Epoch #7, loss 5185349.5\n",
      "Epoch #8 start\n",
      "Epoch #8 end in 0:00:00.382636 time\n",
      "Epoch #8, loss 5795187.5\n",
      "Epoch #9 start\n",
      "Epoch #9 end in 0:00:00.381316 time\n",
      "Epoch #9, loss 6398976.0\n",
      "Epoch #10 start\n",
      "Epoch #10 end in 0:00:00.381460 time\n",
      "Epoch #10, loss 6999891.0\n",
      "Epoch #11 start\n",
      "Epoch #11 end in 0:00:00.404582 time\n",
      "Epoch #11, loss 7596051.0\n",
      "Epoch #12 start\n",
      "Epoch #12 end in 0:00:00.387121 time\n",
      "Epoch #12, loss 8191083.5\n",
      "Epoch #13 start\n",
      "Epoch #13 end in 0:00:00.385896 time\n",
      "Epoch #13, loss 8743887.0\n",
      "Epoch #14 start\n",
      "Epoch #14 end in 0:00:00.382825 time\n",
      "Epoch #14, loss 9277923.0\n",
      "Epoch #15 start\n",
      "Epoch #15 end in 0:00:00.384904 time\n",
      "Epoch #15, loss 9810092.0\n",
      "Epoch #16 start\n",
      "Epoch #16 end in 0:00:00.380444 time\n",
      "Epoch #16, loss 10340373.0\n",
      "Epoch #17 start\n",
      "Epoch #17 end in 0:00:00.384279 time\n",
      "Epoch #17, loss 10880382.0\n",
      "Epoch #18 start\n",
      "Epoch #18 end in 0:00:00.383411 time\n",
      "Epoch #18, loss 11406346.0\n",
      "Epoch #19 start\n",
      "Epoch #19 end in 0:00:00.384115 time\n",
      "Epoch #19, loss 11929053.0\n",
      "Epoch #20 start\n",
      "Epoch #20 end in 0:00:00.384244 time\n",
      "Epoch #20, loss 12448446.0\n"
     ]
    }
   ],
   "source": [
    "model.train(print_progress=True)"
   ]
  },
  {
   "cell_type": "markdown",
   "metadata": {},
   "source": [
    "Generating Recommendations"
   ]
  },
  {
   "cell_type": "code",
   "execution_count": null,
   "metadata": {},
   "outputs": [
    {
     "name": "stdout",
     "output_type": "stream",
     "text": [
      "Movie(movie_id=1210, title='Star Wars: Episode VI - Return of the Jedi (1983)', genres='Action|Adventure|Sci-Fi')\n",
      "> Recommendations:\n",
      ">> Movie(movie_id=260, title='Star Wars: Episode IV - A New Hope (1977)', genres='Action|Adventure|Sci-Fi') score=0.48851245641708374\n",
      ">> Movie(movie_id=1196, title='Star Wars: Episode V - The Empire Strikes Back (1980)', genres='Action|Adventure|Sci-Fi') score=0.47641801834106445\n",
      ">> Movie(movie_id=66, title='Lawnmower Man 2: Beyond Cyberspace (1996)', genres='Action|Sci-Fi|Thriller') score=0.46002277731895447\n",
      ">> Movie(movie_id=1356, title='Star Trek: First Contact (1996)', genres='Action|Adventure|Sci-Fi|Thriller') score=0.45794355869293213\n",
      ">> Movie(movie_id=986, title='Fly Away Home (1996)', genres='Adventure|Children') score=0.43927180767059326\n"
     ]
    }
   ],
   "source": [
    "seed_id = 1210\n",
    "recommendations = model.similar_by_movie_id(seed_id)\n",
    "print_recommendations(movie_repository, seed_id, recommendations)"
   ]
  },
  {
   "cell_type": "code",
   "execution_count": null,
   "metadata": {},
   "outputs": [
    {
     "name": "stdout",
     "output_type": "stream",
     "text": [
      "Movie(movie_id=110, title='Braveheart (1995)', genres='Action|Drama|War')\n",
      "> Recommendations:\n",
      ">> Movie(movie_id=356, title='Forrest Gump (1994)', genres='Comedy|Drama|Romance|War') score=0.6083000898361206\n",
      ">> Movie(movie_id=457, title='Fugitive, The (1993)', genres='Thriller') score=0.5903143882751465\n",
      ">> Movie(movie_id=47, title='Seven (a.k.a. Se7en) (1995)', genres='Mystery|Thriller') score=0.5647188425064087\n",
      ">> Movie(movie_id=593, title='Silence of the Lambs, The (1991)', genres='Crime|Horror|Thriller') score=0.5621548891067505\n",
      ">> Movie(movie_id=2028, title='Saving Private Ryan (1998)', genres='Action|Drama|War') score=0.5365759134292603\n"
     ]
    }
   ],
   "source": [
    "seed_id = 110\n",
    "recommendations = model.similar_by_movie_id(seed_id)\n",
    "print_recommendations(movie_repository, seed_id, recommendations)"
   ]
  },
  {
   "cell_type": "markdown",
   "metadata": {},
   "source": [
    "## Evaluation\n",
    "\n",
    "We will use the valitation daset and generate the sequences of movie_ids for each user. For each movie we will calculate the recommendations and check how many of these recommendations are present in the list of movies rated for the user."
   ]
  },
  {
   "cell_type": "code",
   "execution_count": null,
   "metadata": {},
   "outputs": [],
   "source": [
    "precisions = [[k, model.calculate_precision_at_k(k)]  for k in range(1, 16)]"
   ]
  },
  {
   "cell_type": "code",
   "execution_count": null,
   "metadata": {},
   "outputs": [
    {
     "data": {
      "text/html": [
       "<div>\n",
       "<style scoped>\n",
       "    .dataframe tbody tr th:only-of-type {\n",
       "        vertical-align: middle;\n",
       "    }\n",
       "\n",
       "    .dataframe tbody tr th {\n",
       "        vertical-align: top;\n",
       "    }\n",
       "\n",
       "    .dataframe thead th {\n",
       "        text-align: right;\n",
       "    }\n",
       "</style>\n",
       "<table border=\"1\" class=\"dataframe\">\n",
       "  <thead>\n",
       "    <tr style=\"text-align: right;\">\n",
       "      <th></th>\n",
       "      <th>k</th>\n",
       "      <th>avg_precision_at_k</th>\n",
       "    </tr>\n",
       "  </thead>\n",
       "  <tbody>\n",
       "    <tr>\n",
       "      <th>0</th>\n",
       "      <td>1</td>\n",
       "      <td>0.230190</td>\n",
       "    </tr>\n",
       "    <tr>\n",
       "      <th>1</th>\n",
       "      <td>2</td>\n",
       "      <td>0.213888</td>\n",
       "    </tr>\n",
       "    <tr>\n",
       "      <th>2</th>\n",
       "      <td>3</td>\n",
       "      <td>0.204065</td>\n",
       "    </tr>\n",
       "    <tr>\n",
       "      <th>3</th>\n",
       "      <td>4</td>\n",
       "      <td>0.194257</td>\n",
       "    </tr>\n",
       "    <tr>\n",
       "      <th>4</th>\n",
       "      <td>5</td>\n",
       "      <td>0.184594</td>\n",
       "    </tr>\n",
       "    <tr>\n",
       "      <th>5</th>\n",
       "      <td>6</td>\n",
       "      <td>0.176968</td>\n",
       "    </tr>\n",
       "    <tr>\n",
       "      <th>6</th>\n",
       "      <td>7</td>\n",
       "      <td>0.172821</td>\n",
       "    </tr>\n",
       "    <tr>\n",
       "      <th>7</th>\n",
       "      <td>8</td>\n",
       "      <td>0.168129</td>\n",
       "    </tr>\n",
       "    <tr>\n",
       "      <th>8</th>\n",
       "      <td>9</td>\n",
       "      <td>0.163486</td>\n",
       "    </tr>\n",
       "    <tr>\n",
       "      <th>9</th>\n",
       "      <td>10</td>\n",
       "      <td>0.159178</td>\n",
       "    </tr>\n",
       "    <tr>\n",
       "      <th>10</th>\n",
       "      <td>11</td>\n",
       "      <td>0.155400</td>\n",
       "    </tr>\n",
       "    <tr>\n",
       "      <th>11</th>\n",
       "      <td>12</td>\n",
       "      <td>0.152338</td>\n",
       "    </tr>\n",
       "    <tr>\n",
       "      <th>12</th>\n",
       "      <td>13</td>\n",
       "      <td>0.149266</td>\n",
       "    </tr>\n",
       "    <tr>\n",
       "      <th>13</th>\n",
       "      <td>14</td>\n",
       "      <td>0.147263</td>\n",
       "    </tr>\n",
       "    <tr>\n",
       "      <th>14</th>\n",
       "      <td>15</td>\n",
       "      <td>0.144802</td>\n",
       "    </tr>\n",
       "  </tbody>\n",
       "</table>\n",
       "</div>"
      ],
      "text/plain": [
       "     k  avg_precision_at_k\n",
       "0    1            0.230190\n",
       "1    2            0.213888\n",
       "2    3            0.204065\n",
       "3    4            0.194257\n",
       "4    5            0.184594\n",
       "5    6            0.176968\n",
       "6    7            0.172821\n",
       "7    8            0.168129\n",
       "8    9            0.163486\n",
       "9   10            0.159178\n",
       "10  11            0.155400\n",
       "11  12            0.152338\n",
       "12  13            0.149266\n",
       "13  14            0.147263\n",
       "14  15            0.144802"
      ]
     },
     "execution_count": null,
     "metadata": {},
     "output_type": "execute_result"
    }
   ],
   "source": [
    "precisions_df = pd.DataFrame(precisions, columns=['k', 'avg_precision_at_k'])\n",
    "precisions_df"
   ]
  },
  {
   "cell_type": "code",
   "execution_count": null,
   "metadata": {},
   "outputs": [
    {
     "data": {
      "text/plain": [
       "<matplotlib.axes._subplots.AxesSubplot at 0x7f955a07cbd0>"
      ]
     },
     "execution_count": null,
     "metadata": {},
     "output_type": "execute_result"
    },
    {
     "data": {
      "image/png": "[encoded data removed]",
      "text/plain": [
       "<Figure size 432x288 with 1 Axes>"
      ]
     },
     "metadata": {
      "needs_background": "light"
     },
     "output_type": "display_data"
    }
   ],
   "source": [
    " precisions_df.set_index(\"k\")[\"avg_precision_at_k\"].plot()"
   ]
  },
  {
   "cell_type": "markdown",
   "metadata": {},
   "source": [
    "Precision quickly degradades when whe increase K. This is an indicative that recommendations stop being relevant for big k"
   ]
  },
  {
   "cell_type": "markdown",
   "metadata": {},
   "source": [
    "We will fix k=5 and try to find a combination of hyper-parameters that maximizes the performance for this K."
   ]
  },
  {
   "cell_type": "code",
   "execution_count": null,
   "metadata": {},
   "outputs": [],
   "source": [
    "#export\n",
    "def hyper_parameter_tunning(epochs: List[int], windows: List[int], negatives: List[int], target_k: int, debug=False) -> Tuple[Word2VecMovieModel, GensimParameters, float]:\n",
    "    best_model = None\n",
    "    best_p = 0.0\n",
    "    best_hyperparams = None\n",
    "    for epoch, window, negative in product(epochs, windows, negatives):\n",
    "        gensim_parameters = GensimParameters(compute_loss=False, window= window, iter=epoch, negative= negative)\n",
    "        if debug:\n",
    "            print(\"> Running for\", gensim_parameters)\n",
    "        model = Word2VecMovieModel(\n",
    "            movies_df=movies_df,\n",
    "            ratings_df=ratings_df,\n",
    "            gensim_parameters=gensim_parameters\n",
    "        )\n",
    "        model.train()\n",
    "        p = model.calculate_precision_at_k(target_k)\n",
    "        if debug:\n",
    "            print(f\"p_at_{target_k}\", p)\n",
    "        if p > best_p:\n",
    "            best_p = p\n",
    "            best_model = model\n",
    "            best_hyperparams = gensim_parameters\n",
    "    if debug:\n",
    "        print(\"> Best params \", best_p, best_hyperparams)\n",
    "    return (best_model, best_hyperparams, best_p)"
   ]
  },
  {
   "cell_type": "code",
   "execution_count": null,
   "metadata": {},
   "outputs": [
    {
     "name": "stdout",
     "output_type": "stream",
     "text": [
      "> Running for GensimParameters(window=1, iter=20, sg=1, hs=0, negative=1, alpha=0.03, min_alpha=0.0007, seed=14, compute_loss=False)\n",
      "p_at_5 0.17003906974191338\n",
      "> Running for GensimParameters(window=1, iter=20, sg=1, hs=0, negative=5, alpha=0.03, min_alpha=0.0007, seed=14, compute_loss=False)\n",
      "p_at_5 0.13211607957384192\n",
      "> Running for GensimParameters(window=1, iter=20, sg=1, hs=0, negative=10, alpha=0.03, min_alpha=0.0007, seed=14, compute_loss=False)\n",
      "p_at_5 0.09882734583335394\n",
      "> Running for GensimParameters(window=1, iter=20, sg=1, hs=0, negative=20, alpha=0.03, min_alpha=0.0007, seed=14, compute_loss=False)\n",
      "p_at_5 0.07879000512096486\n",
      "> Running for GensimParameters(window=5, iter=20, sg=1, hs=0, negative=1, alpha=0.03, min_alpha=0.0007, seed=14, compute_loss=False)\n",
      "p_at_5 0.21560523174205928\n",
      "> Running for GensimParameters(window=5, iter=20, sg=1, hs=0, negative=5, alpha=0.03, min_alpha=0.0007, seed=14, compute_loss=False)\n",
      "p_at_5 0.16160489475341905\n",
      "> Running for GensimParameters(window=5, iter=20, sg=1, hs=0, negative=10, alpha=0.03, min_alpha=0.0007, seed=14, compute_loss=False)\n",
      "p_at_5 0.14240312648336018\n",
      "> Running for GensimParameters(window=5, iter=20, sg=1, hs=0, negative=20, alpha=0.03, min_alpha=0.0007, seed=14, compute_loss=False)\n",
      "p_at_5 0.13531058952022798\n",
      "> Running for GensimParameters(window=10, iter=20, sg=1, hs=0, negative=1, alpha=0.03, min_alpha=0.0007, seed=14, compute_loss=False)\n",
      "p_at_5 0.21131337999810879\n",
      "> Running for GensimParameters(window=10, iter=20, sg=1, hs=0, negative=5, alpha=0.03, min_alpha=0.0007, seed=14, compute_loss=False)\n",
      "p_at_5 0.18268901351931746\n",
      "> Running for GensimParameters(window=10, iter=20, sg=1, hs=0, negative=10, alpha=0.03, min_alpha=0.0007, seed=14, compute_loss=False)\n",
      "p_at_5 0.18247536144321402\n",
      "> Running for GensimParameters(window=10, iter=20, sg=1, hs=0, negative=20, alpha=0.03, min_alpha=0.0007, seed=14, compute_loss=False)\n",
      "p_at_5 0.18389444457755144\n",
      "> Running for GensimParameters(window=20, iter=20, sg=1, hs=0, negative=1, alpha=0.03, min_alpha=0.0007, seed=14, compute_loss=False)\n",
      "p_at_5 0.21009507773741679\n",
      "> Running for GensimParameters(window=20, iter=20, sg=1, hs=0, negative=5, alpha=0.03, min_alpha=0.0007, seed=14, compute_loss=False)\n",
      "p_at_5 0.22468017817894692\n",
      "> Running for GensimParameters(window=20, iter=20, sg=1, hs=0, negative=10, alpha=0.03, min_alpha=0.0007, seed=14, compute_loss=False)\n",
      "p_at_5 0.2349778053020845\n",
      "> Running for GensimParameters(window=20, iter=20, sg=1, hs=0, negative=20, alpha=0.03, min_alpha=0.0007, seed=14, compute_loss=False)\n",
      "p_at_5 0.23916073181362663\n",
      "> Running for GensimParameters(window=1, iter=30, sg=1, hs=0, negative=1, alpha=0.03, min_alpha=0.0007, seed=14, compute_loss=False)\n",
      "p_at_5 0.17645347368620562\n",
      "> Running for GensimParameters(window=1, iter=30, sg=1, hs=0, negative=5, alpha=0.03, min_alpha=0.0007, seed=14, compute_loss=False)\n",
      "p_at_5 0.0788799712712776\n",
      "> Running for GensimParameters(window=1, iter=30, sg=1, hs=0, negative=10, alpha=0.03, min_alpha=0.0007, seed=14, compute_loss=False)\n",
      "p_at_5 0.05976683034809366\n",
      "> Running for GensimParameters(window=1, iter=30, sg=1, hs=0, negative=20, alpha=0.03, min_alpha=0.0007, seed=14, compute_loss=False)\n",
      "p_at_5 0.04885976182040415\n",
      "> Running for GensimParameters(window=5, iter=30, sg=1, hs=0, negative=1, alpha=0.03, min_alpha=0.0007, seed=14, compute_loss=False)\n",
      "p_at_5 0.18990975680174638\n",
      "> Running for GensimParameters(window=5, iter=30, sg=1, hs=0, negative=5, alpha=0.03, min_alpha=0.0007, seed=14, compute_loss=False)\n",
      "p_at_5 0.14873380153509122\n",
      "> Running for GensimParameters(window=5, iter=30, sg=1, hs=0, negative=10, alpha=0.03, min_alpha=0.0007, seed=14, compute_loss=False)\n",
      "p_at_5 0.15457130418831563\n",
      "> Running for GensimParameters(window=5, iter=30, sg=1, hs=0, negative=20, alpha=0.03, min_alpha=0.0007, seed=14, compute_loss=False)\n",
      "p_at_5 0.1690749602866568\n",
      "> Running for GensimParameters(window=10, iter=30, sg=1, hs=0, negative=1, alpha=0.03, min_alpha=0.0007, seed=14, compute_loss=False)\n",
      "p_at_5 0.190724625899818\n",
      "> Running for GensimParameters(window=10, iter=30, sg=1, hs=0, negative=5, alpha=0.03, min_alpha=0.0007, seed=14, compute_loss=False)\n",
      "p_at_5 0.20398610416520135\n",
      "> Running for GensimParameters(window=10, iter=30, sg=1, hs=0, negative=10, alpha=0.03, min_alpha=0.0007, seed=14, compute_loss=False)\n",
      "p_at_5 0.21121729040879622\n",
      "> Running for GensimParameters(window=10, iter=30, sg=1, hs=0, negative=20, alpha=0.03, min_alpha=0.0007, seed=14, compute_loss=False)\n",
      "p_at_5 0.2214020465581084\n",
      "> Running for GensimParameters(window=20, iter=30, sg=1, hs=0, negative=1, alpha=0.03, min_alpha=0.0007, seed=14, compute_loss=False)\n",
      "p_at_5 0.20855940498650882\n",
      "> Running for GensimParameters(window=20, iter=30, sg=1, hs=0, negative=5, alpha=0.03, min_alpha=0.0007, seed=14, compute_loss=False)\n",
      "p_at_5 0.24332887669500117\n",
      "> Running for GensimParameters(window=20, iter=30, sg=1, hs=0, negative=10, alpha=0.03, min_alpha=0.0007, seed=14, compute_loss=False)\n",
      "p_at_5 0.255504393355708\n",
      "> Running for GensimParameters(window=20, iter=30, sg=1, hs=0, negative=20, alpha=0.03, min_alpha=0.0007, seed=14, compute_loss=False)\n",
      "p_at_5 0.2622253391482377\n",
      "> Best params  0.2622253391482377 GensimParameters(window=20, iter=30, sg=1, hs=0, negative=20, alpha=0.03, min_alpha=0.0007, seed=14, compute_loss=False)\n"
     ]
    }
   ],
   "source": [
    "epochs = [20, 30]\n",
    "windows = [1, 5, 10, 20]\n",
    "negatives = [1, 5, 10, 20]\n",
    "\n",
    "result = hyper_parameter_tunning(epochs=epochs, windows=windows, negatives=negatives, target_k=5, debug=True)"
   ]
  },
  {
   "cell_type": "code",
   "execution_count": null,
   "metadata": {},
   "outputs": [],
   "source": [
    "(best_model, best_hyperparameter, best_p) = result"
   ]
  },
  {
   "cell_type": "markdown",
   "metadata": {},
   "source": [
    "Now that we have the best model. Let's save it"
   ]
  },
  {
   "cell_type": "code",
   "execution_count": null,
   "metadata": {},
   "outputs": [],
   "source": [
    "best_model.save_all(Path('../data/best_model'))"
   ]
  },
  {
   "cell_type": "code",
   "execution_count": null,
   "metadata": {},
   "outputs": [
    {
     "name": "stdout",
     "output_type": "stream",
     "text": [
      "total 16768\r\n",
      "-rw-r--r--  1 felipe.gasparini  2119619082   1.1M Dec 23 01:20 embeddings.pkl\r\n",
      "-rw-r--r--  1 felipe.gasparini  2119619082   5.1M Dec 23 01:20 model.gensim\r\n",
      "-rw-r--r--  1 felipe.gasparini  2119619082    68K Dec 23 01:20 words_index.pkl\r\n"
     ]
    }
   ],
   "source": [
    "!ls -lh ../data/best_model"
   ]
  },
  {
   "cell_type": "code",
   "execution_count": null,
   "metadata": {},
   "outputs": [
    {
     "name": "stdout",
     "output_type": "stream",
     "text": [
      "Movie(movie_id=1210, title='Star Wars: Episode VI - Return of the Jedi (1983)', genres='Action|Adventure|Sci-Fi')\n",
      "> Recommendations:\n",
      ">> Movie(movie_id=1196, title='Star Wars: Episode V - The Empire Strikes Back (1980)', genres='Action|Adventure|Sci-Fi') score=0.8175010681152344\n",
      ">> Movie(movie_id=260, title='Star Wars: Episode IV - A New Hope (1977)', genres='Action|Adventure|Sci-Fi') score=0.8031826019287109\n",
      ">> Movie(movie_id=1198, title='Raiders of the Lost Ark (Indiana Jones and the Raiders of the Lost Ark) (1981)', genres='Action|Adventure') score=0.6892042756080627\n",
      ">> Movie(movie_id=2571, title='Matrix, The (1999)', genres='Action|Sci-Fi|Thriller') score=0.676661491394043\n",
      ">> Movie(movie_id=1291, title='Indiana Jones and the Last Crusade (1989)', genres='Action|Adventure') score=0.6251779794692993\n"
     ]
    }
   ],
   "source": [
    "seed_id = 1210\n",
    "recommendations = best_model.similar_by_movie_id(seed_id)\n",
    "print_recommendations(movie_repository, seed_id, recommendations)"
   ]
  },
  {
   "cell_type": "markdown",
   "metadata": {},
   "source": [
    "## Analising results"
   ]
  },
  {
   "cell_type": "markdown",
   "metadata": {},
   "source": [
    "Coverage\n",
    "\n",
    "> How many items are recommended by my recommender?"
   ]
  },
  {
   "cell_type": "code",
   "execution_count": null,
   "metadata": {},
   "outputs": [
    {
     "data": {
      "text/plain": [
       "[Recommendation(movie_id=1196, score=0.8175010681152344),\n",
       " Recommendation(movie_id=260, score=0.8031826019287109),\n",
       " Recommendation(movie_id=1198, score=0.6892042756080627),\n",
       " Recommendation(movie_id=2571, score=0.676661491394043),\n",
       " Recommendation(movie_id=1291, score=0.6251779794692993)]"
      ]
     },
     "execution_count": null,
     "metadata": {},
     "output_type": "execute_result"
    }
   ],
   "source": [
    "best_model.similar_by_movie_id(seed_id)"
   ]
  },
  {
   "cell_type": "code",
   "execution_count": null,
   "metadata": {},
   "outputs": [],
   "source": [
    "from collections import Counter\n",
    "\n",
    "movies_counter = Counter()\n",
    "\n",
    "for movie_id in movies_df[\"movieId\"].tolist():\n",
    "    recs = best_model.similar_by_movie_id(int(movie_id), n=10)\n",
    "    for rec in recs:\n",
    "        movies_counter[rec.movie_id] += 1"
   ]
  },
  {
   "cell_type": "code",
   "execution_count": null,
   "metadata": {},
   "outputs": [
    {
     "data": {
      "text/plain": [
       "2845"
      ]
     },
     "execution_count": null,
     "metadata": {},
     "output_type": "execute_result"
    }
   ],
   "source": [
    "len(movies_counter)"
   ]
  },
  {
   "cell_type": "code",
   "execution_count": null,
   "metadata": {},
   "outputs": [
    {
     "data": {
      "text/plain": [
       "0.29203448983781566"
      ]
     },
     "execution_count": null,
     "metadata": {},
     "output_type": "execute_result"
    }
   ],
   "source": [
    "coverage = len(movies_counter) / movies_df[\"movieId\"].shape[0]\n",
    "coverage"
   ]
  },
  {
   "cell_type": "markdown",
   "metadata": {},
   "source": [
    "This means we have a coverage of 29%"
   ]
  },
  {
   "cell_type": "code",
   "execution_count": null,
   "metadata": {},
   "outputs": [
    {
     "data": {
      "text/plain": [
       "[(79, 56),\n",
       " (274, 56),\n",
       " (66, 54),\n",
       " (540, 53),\n",
       " (122922, 51),\n",
       " (218, 46),\n",
       " (415, 45),\n",
       " (166635, 45),\n",
       " (711, 44),\n",
       " (502, 43)]"
      ]
     },
     "execution_count": null,
     "metadata": {},
     "output_type": "execute_result"
    }
   ],
   "source": [
    "movies_counter.most_common(10)"
   ]
  },
  {
   "cell_type": "markdown",
   "metadata": {},
   "source": [
    "## Visualizing Embeddings"
   ]
  },
  {
   "cell_type": "code",
   "execution_count": null,
   "metadata": {},
   "outputs": [
    {
     "data": {
      "image/png": "[encoded data removed]",
      "text/plain": [
       "<Figure size 864x864 with 1 Axes>"
      ]
     },
     "metadata": {
      "needs_background": "light"
     },
     "output_type": "display_data"
    }
   ],
   "source": [
    "# Code from: https://radimrehurek.com/gensim/auto_examples/tutorials/run_word2vec.html#visualising-the-word-embeddings\n",
    "\n",
    "from sklearn.decomposition import IncrementalPCA    # inital reduction\n",
    "from sklearn.manifold import TSNE                   # final reduction\n",
    "import numpy as np                                  # array handling\n",
    "\n",
    "\n",
    "def reduce_dimensions(model):\n",
    "    num_dimensions = 2  # final num dimensions (2D, 3D, etc)\n",
    "\n",
    "    vectors = [] # positions in vector space\n",
    "    labels = [] # keep track of words to label our data again later\n",
    "    for word in model.wv.vocab:\n",
    "        vectors.append(model.wv[word])\n",
    "        labels.append(word)\n",
    "\n",
    "    # convert both lists into numpy vectors for reduction\n",
    "    vectors = np.asarray(vectors)\n",
    "    labels = np.asarray(labels)\n",
    "\n",
    "    # reduce using t-SNE\n",
    "    vectors = np.asarray(vectors)\n",
    "    tsne = TSNE(n_components=num_dimensions, random_state=0)\n",
    "    vectors = tsne.fit_transform(vectors)\n",
    "\n",
    "    x_vals = [v[0] for v in vectors]\n",
    "    y_vals = [v[1] for v in vectors]\n",
    "    return x_vals, y_vals, labels\n",
    "\n",
    "\n",
    "x_vals, y_vals, labels = reduce_dimensions(best_model.model)\n",
    "\n",
    "def plot_with_plotly(x_vals, y_vals, labels, plot_in_notebook=True):\n",
    "    from plotly.offline import init_notebook_mode, iplot, plot\n",
    "    import plotly.graph_objs as go\n",
    "\n",
    "    trace = go.Scatter(x=x_vals, y=y_vals, mode='text', text=labels)\n",
    "    data = [trace]\n",
    "\n",
    "    if plot_in_notebook:\n",
    "        init_notebook_mode(connected=True)\n",
    "        iplot(data, filename='word-embedding-plot')\n",
    "    else:\n",
    "        plot(data, filename='word-embedding-plot.html')\n",
    "\n",
    "\n",
    "def plot_with_matplotlib(x_vals, y_vals, labels):\n",
    "    import matplotlib.pyplot as plt\n",
    "    import random\n",
    "\n",
    "    random.seed(0)\n",
    "\n",
    "    plt.figure(figsize=(12, 12))\n",
    "    plt.scatter(x_vals, y_vals)\n",
    "\n",
    "    #\n",
    "    # Label randomly subsampled 25 data points\n",
    "    #\n",
    "    indices = list(range(len(labels)))\n",
    "    selected_indices = random.sample(indices, 25)\n",
    "    for i in selected_indices:\n",
    "        plt.annotate(labels[i], (x_vals[i], y_vals[i]))\n",
    "\n",
    "try:\n",
    "    get_ipython()\n",
    "except Exception:\n",
    "    plot_function = plot_with_matplotlib\n",
    "else:\n",
    "    plot_function = plot_with_plotly\n",
    "\n",
    "plot_with_matplotlib(x_vals, y_vals, labels)"
   ]
  },
  {
   "cell_type": "code",
   "execution_count": null,
   "metadata": {},
   "outputs": [],
   "source": []
  }
 ],
 "metadata": {
  "kernelspec": {
   "display_name": "Python 3",
   "language": "python",
   "name": "python3"
  }
 },
 "nbformat": 4,
 "nbformat_minor": 2
}
