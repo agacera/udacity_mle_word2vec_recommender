{
 "cells": [
  {
   "cell_type": "code",
   "execution_count": null,
   "metadata": {},
   "outputs": [],
   "source": [
    "# default_exp dash"
   ]
  },
  {
   "cell_type": "markdown",
   "metadata": {},
   "source": [
    "# Dash\n",
    "\n",
    "> Plotly Dash application to visualize and recommendations\n",
    "\n",
    "https://plot.ly/dash/"
   ]
  },
  {
   "cell_type": "code",
   "execution_count": null,
   "metadata": {},
   "outputs": [],
   "source": [
    "#hide\n",
    "from nbdev.export import *"
   ]
  },
  {
   "cell_type": "code",
   "execution_count": null,
   "metadata": {},
   "outputs": [],
   "source": [
    "#export\n",
    "import dash\n",
    "import dash_core_components as dcc\n",
    "import dash_html_components as html\n",
    "from dash.dependencies import Input, Output\n",
    "\n",
    "from functools import lru_cache\n",
    "from pathlib import Path\n",
    "\n",
    "import pandas as pd\n",
    "import numpy as np\n",
    "import requests\n",
    "\n",
    "from word2vec_recommender.core import *\n",
    "from word2vec_recommender.recommender import KnnRecommender\n",
    "from word2vec_recommender.tmdb import load_api_key, TmdbApi, MovieData"
   ]
  },
  {
   "cell_type": "markdown",
   "execution_count": null,
   "metadata": {},
   "outputs": [],
   "source": [
    "Load Tmdb Api"
   ]
  },
  {
   "cell_type": "code",
   "execution_count": null,
   "metadata": {},
   "outputs": [],
   "source": [
    "#export\n",
    "def create_dash_app(dataset_path: Path, model_path: Path, dash_params: dict = None):\n",
    "    # load dataframes\n",
    "    movies_df = pd.read_csv(dataset_path / \"movies.csv\")\n",
    "    links_df = pd.read_csv(dataset_path / \"links.csv\")\n",
    "\n",
    "    # create TMDB API\n",
    "    movielens_to_tmdb_lookup = { \n",
    "        int(movie_id):int(tmdb_id)  \n",
    "        for movie_id, tmdb_id in links_df.set_index(\"movieId\")[\"tmdbId\"].to_dict().items() \n",
    "        if movie_id > 0 and tmdb_id > 0 \n",
    "    }\n",
    "    api = TmdbApi(api_key=load_api_key(), movielens_to_tmdb_lookup=movielens_to_tmdb_lookup)\n",
    "\n",
    "    # load model\n",
    "    with open(model_path / \"embeddings.pkl\", \"rb\") as f:\n",
    "        embeddings = np.load(f)\n",
    "    with open(model_path / \"words_index.pkl\", \"rb\") as f:\n",
    "        word_indexes = np.load(f)\n",
    "    movie_id_to_index_lookup = {int(movie_id):idx for idx, movie_id in enumerate(word_indexes)}\n",
    "    knn_recommender = KnnRecommender(\n",
    "        word_indexes=word_indexes, \n",
    "        embeddings=embeddings)\n",
    "    knn_recommender.fit()\n",
    "\n",
    "    if not dash_params:\n",
    "        dash_params={}\n",
    "    app = dash.Dash(__name__, **dash_params)\n",
    "\n",
    "    # base layout\n",
    "    app.layout = html.Div(children=[\n",
    "        html.H1(children='MovieLens Recommender based on Word2Vec'),\n",
    "\n",
    "        html.Div(children='''\n",
    "            Dash: A web application framework for Python.\n",
    "        '''),\n",
    "        dcc.Dropdown(\n",
    "            id=\"movie-id\",\n",
    "            options=movies_df[[\"title\", \"movieId\"]].apply(lambda r:  {\"value\": r[\"movieId\"], \"label\": r[\"title\"]} ,axis=1).tolist(),\n",
    "        ),\n",
    "        html.Div(id=\"selected-movie-id\", children=\"\")\n",
    "    ])\n",
    "\n",
    "    def movie_card(movie: MovieData, seed: bool = False) -> html.Div:\n",
    "        description = f\"{movie.title} (id={movie.movie_id}, tmdb_id={movie.tmdb_id})\"\n",
    "        return html.Div(children=[\n",
    "            html.H2(description) if seed else html.H3(description),\n",
    "            html.Img(src=movie.image_url)\n",
    "        ])\n",
    "\n",
    "    @app.callback(\n",
    "        Output(component_id='selected-movie-id', component_property='children'),\n",
    "        [Input(component_id='movie-id', component_property='value')]\n",
    "    )\n",
    "    def update_output_div(movie_id) -> html.Div:\n",
    "        if not movie_id:\n",
    "            return html.Div(children=\"No movie selected\")\n",
    "        print(movie_id)\n",
    "        movie = api.fetch_movie_data_by_movielens_id(int(movie_id))\n",
    "        if not movie:\n",
    "            return html.Div(children=\"Movie not found on TMDB\")\n",
    "        movie_index = movie_id_to_index_lookup.get(int(movie_id))\n",
    "        if not movie_index:\n",
    "            return html.Div(children=\"No embeddings for movie\")\n",
    "        movie_recs = knn_recommender.recommend_by_index(movie_index) or []\n",
    "        movies = [ api.fetch_movie_data_by_movielens_id(rec.movie_id) for rec in movie_recs ]\n",
    "        return html.Div(children=[\n",
    "            movie_card(movie, seed=True),\n",
    "            html.Div(children=[\n",
    "                html.H2(\"Recommendations\"),\n",
    "                *[movie_card(m) for m in movies]\n",
    "                ])\n",
    "            ]) \n",
    "    \n",
    "    return app"
   ]
  },
  {
   "cell_type": "code",
   "execution_count": null,
   "metadata": {},
   "outputs": [
    {
     "name": "stdout",
     "output_type": "stream",
     "text": [
      "* Serving Flask app \"__main__\" (lazy loading)\n",
      " * Environment: production\n",
      "   WARNING: This is a development server. Do not use it in a production deployment.\n",
      "   Use a production WSGI server instead.\n",
      " * Debug mode: off\n",
      " * Running on http://127.0.0.1:9998/ (Press CTRL+C to quit)\n",
      "127.0.0.1 - - [20/Dec/2019 11:17:51] \"GET / HTTP/1.1\" 200 -\n",
      "127.0.0.1 - - [20/Dec/2019 11:17:51] \"GET /_dash-dependencies HTTP/1.1\" 200 -\n",
      "127.0.0.1 - - [20/Dec/2019 11:17:51] \"GET /_dash-layout HTTP/1.1\" 200 -\n",
      "127.0.0.1 - - [20/Dec/2019 11:17:51] \"GET /_favicon.ico?v=1.7.0 HTTP/1.1\" 200 -\n",
      "127.0.0.1 - - [20/Dec/2019 11:17:51] \"POST /_dash-update-component HTTP/1.1\" 200 -\n",
      "1\n",
      ">tmdb_movie_id 862\n",
      ">tmdb_movie_id 10545\n",
      ">tmdb_movie_id 687\n",
      ">tmdb_movie_id 13\n",
      ">tmdb_movie_id 1934\n",
      ">tmdb_movie_id 177572\n",
      ">tmdb_movie_id 10451\n",
      ">tmdb_movie_id 9598\n",
      ">tmdb_movie_id 863\n",
      ">tmdb_movie_id 10020\n",
      "127.0.0.1 - - [20/Dec/2019 11:17:55] \"POST /_dash-update-component HTTP/1.1\" 200 -\n",
      ">tmdb_movie_id 812\n"
     ]
    }
   ],
   "source": [
    "#hide\n",
    "app = create_dash_app(dataset_path=Path(\"./data/ml-latest-small/\"), model_path=Path(\"./data/out\"))\n",
    "app.run_server(debug=False, port=9998)"
   ]
  },
  {
   "cell_type": "code",
   "execution_count": null,
   "metadata": {},
   "outputs": [],
   "source": []
  }
 ],
 "metadata": {
  "kernelspec": {
   "display_name": "Python 3",
   "language": "python",
   "name": "python3"
  }
 },
 "nbformat": 4,
 "nbformat_minor": 2
}
